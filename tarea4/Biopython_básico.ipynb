{
 "cells": [
  {
   "cell_type": "markdown",
   "id": "9911feb5-e0c5-4424-9ad1-80309cbaac1a",
   "metadata": {},
   "source": [
    "<img src=\"images/Biopython_logo.png\" alt=\"Logo Biopython\" style=\"width: 300px;\"/>\n",
    "\n",
    "# Biopython básico\n",
    "\n",
    "El proyecto Biopython mantiene una librería para el manejo de datos biológicos con Python creada por una asociación internacional de desarrolladores y disponible libremente en https://biopython.org/\n",
    "\n",
    "Esta librería facilita, entre otras cosas:\n",
    "- el manejo de secuencias y anotaciones\n",
    "- la descarga de secuencias desde NCBI y otras bases de datos biológicas\n",
    "- el trabajo con archivos estándares\n",
    "- la realización de alineamientos\n",
    "- la invocación a BLAST via Internet o localmente\n",
    "- el manejo de información de genética poblacional, filogenética y otros\n",
    "- la aplicaicón de métodos de aprendizaje supervisados\n",
    "- el despliegue de diagramas \n",
    "\n",
    "Este tutorial explica cómo utilizar Biopython para representar secuencias, realizar consultas a NCBI e invocar a BLAST.\n",
    "\n",
    "Existe un documento que especifica cómo trabajar con Biopython, cuya última versión puede encontrarse [acá](http://biopython.org/DIST/docs/tutorial/Tutorial.html)\n"
   ]
  },
  {
   "cell_type": "markdown",
   "id": "9e7a2ed6-a44b-4752-bf5c-939ca70e3056",
   "metadata": {},
   "source": [
    "## Objetos Secuencia (Seq)\n",
    "\n",
    "Uno de los objetos más utilizados en Biopython es el de **secuencia**, el cual puede almacenar ADN, ARN, y Aminoácidos (proteínas). Para crearlos, simplemente se invoca el constructor de la clase **Seq** con el string de la secuencia:"
   ]
  },
  {
   "cell_type": "code",
   "execution_count": null,
   "id": "694f0d34-de51-4e82-a62a-0976a8c7f99a",
   "metadata": {},
   "outputs": [],
   "source": [
    "from Bio.Seq import Seq\n",
    "my_seq = Seq('GATTACA')\n",
    "print(type(my_seq))\n",
    "print(my_seq)"
   ]
  },
  {
   "cell_type": "markdown",
   "id": "4d7396b9-9361-4129-a947-f202d0a8a083",
   "metadata": {},
   "source": [
    "La clase **Seq** implementa métodos comunmente requeridos, tales como obtención subsecuencias, obtención del complemento, cálculo de %GC, etc"
   ]
  },
  {
   "cell_type": "code",
   "execution_count": null,
   "id": "a8244323-4d6d-4d37-aaa7-235f48cf930f",
   "metadata": {},
   "outputs": [],
   "source": [
    "print(my_seq)\n",
    "print(my_seq[0])\n",
    "print(my_seq[0:3])\n",
    "print('--------------------')\n",
    "print(my_seq.complement())\n",
    "print(my_seq[::-1])                   # reverse\n",
    "print(my_seq.reverse_complement())\n",
    "print('--------------------')\n",
    "pGC = 100*(my_seq.count('G')+my_seq.count('C'))/len(my_seq)\n",
    "print(f'%GC: {pGC}')"
   ]
  },
  {
   "cell_type": "markdown",
   "id": "a73697fa-22df-4983-820d-b9471c7621b1",
   "metadata": {},
   "source": [
    "El cálculo de %GC también puede obtenerse importando el método **GC**"
   ]
  },
  {
   "cell_type": "code",
   "execution_count": null,
   "id": "81083521-fa44-460d-ba5c-ad61633a1780",
   "metadata": {},
   "outputs": [],
   "source": [
    "from Bio.SeqUtils import GC\n",
    "GC(my_seq)"
   ]
  },
  {
   "cell_type": "markdown",
   "id": "4880b572-c7ba-4b52-a5f9-12e0d5f3b99e",
   "metadata": {},
   "source": [
    "Las secuencias pueden concatenarse como si fueran strings, y transformarse a strings de ser necesario"
   ]
  },
  {
   "cell_type": "code",
   "execution_count": null,
   "id": "7bbd2949-cb74-4cb0-bbbc-6da4a62ae475",
   "metadata": {},
   "outputs": [],
   "source": [
    "print(my_seq[2:4])\n",
    "print(my_seq[0:2])\n",
    "nuevaSeq = my_seq[2:4] + my_seq[0:2] # concatena secuencias\n",
    "print(type(nuevaSeq))\n",
    "print(nuevaSeq)\n",
    "print('---------------')\n",
    "SeqStr = str(my_seq) # obtiene string desde objeto Seq\n",
    "print(type(SeqStr))\n",
    "print(SeqStr)"
   ]
  },
  {
   "cell_type": "markdown",
   "id": "7cd75ac7-1978-4f4c-8bc5-68b34046f3e4",
   "metadata": {},
   "source": [
    "**Seq** implementa métodos para transcribir de DNA a RNA, así como para retrotranscribir desde RNA a DNA"
   ]
  },
  {
   "cell_type": "code",
   "execution_count": null,
   "id": "181960d6-6720-4ade-a081-2e2e65820808",
   "metadata": {},
   "outputs": [],
   "source": [
    "print(my_seq)\n",
    "rna = my_seq.transcribe()\n",
    "dna = rna.back_transcribe()\n",
    "print(rna)\n",
    "print(dna)"
   ]
  },
  {
   "cell_type": "markdown",
   "id": "83ef3007-53bd-411f-bb73-2fd0bb6d217d",
   "metadata": {},
   "source": [
    "**Seq** implementa métodos para traducir de ARN (o ADN) a aminoácidos. Sólo se convertirán los codones completos. Existen varios parámetros que se pueden especificar en la traducción, los que pueden ser vistos en la documentación"
   ]
  },
  {
   "cell_type": "code",
   "execution_count": null,
   "id": "791fe46b-9edf-4b43-b9e5-7241e9114873",
   "metadata": {},
   "outputs": [],
   "source": [
    "print(len(rna))\n",
    "print(f'{rna} translate:  ',rna.translate())\n",
    "print(f'{dna} translate:  ',dna.translate())\n",
    "print(f'{dna[0:6]} translate:   ',dna[0:6].translate())"
   ]
  },
  {
   "cell_type": "markdown",
   "id": "1bc5b6e6-2498-4d5b-90f8-7b2e48e60e08",
   "metadata": {},
   "source": [
    "## Objetos de anotación de secuencias (SeqRecord)\n",
    "\n",
    "Mientras que **Seq** almacena secuencias, la clase **SeqRecord** provee la posibilidad de anotarlas, asociando a la secuencia una serie de metadata tal como el identificador de ésta, el organismo de origen, la calidad, etc. Para crear un objeto **SeqRecord** se requiere un objeto **Seq**"
   ]
  },
  {
   "cell_type": "code",
   "execution_count": null,
   "id": "92a7226b-2acd-41ad-8ae2-cc222e44677c",
   "metadata": {},
   "outputs": [],
   "source": [
    "from Bio.Seq import Seq\n",
    "seq = Seq('GATTACA')\n",
    "\n",
    "from Bio.SeqRecord import SeqRecord\n",
    "seqr = SeqRecord(seq)\n",
    "seqr.id = 'AB12345'\n",
    "seqr.description = 'obtenido desde PCR'\n",
    "seqr"
   ]
  },
  {
   "cell_type": "markdown",
   "id": "861e20f4-ec6e-42f0-a9ab-8a64811eefc8",
   "metadata": {},
   "source": [
    "Uno de los campos de Seqrecord es **annotations**, el cual es un diccionario que puede almacenar información diversa"
   ]
  },
  {
   "cell_type": "code",
   "execution_count": null,
   "id": "ab54d981-81c1-44d9-81c4-a3e51896b8fd",
   "metadata": {},
   "outputs": [],
   "source": [
    "seqr.annotations[\"origen\"] = \"Homo sapiens\"\n",
    "print(seqr.annotations)\n",
    "seqr.annotations[\"phred_quality\"] = [32,40,38,30,45,51,43]\n",
    "print(seqr.annotations)"
   ]
  },
  {
   "cell_type": "markdown",
   "id": "b749db5b-889e-4834-bf5e-46011a38e32c",
   "metadata": {},
   "source": [
    "Los objetos SeqRecord contienen los siguientes atributos:\n",
    "\n",
    "- **.seq** la secuencia misma, un objeto *Seq*\n",
    "- **.id** el identificador primario de la secuencia\n",
    "- **.name** un string con más información\n",
    "- **.description** un srring con explicación de consumo humano\n",
    "- **.letter_annotations** anotación letra por letra del mismo largo de la secuencia, como por ejemplo los scores de calidad\n",
    "- **.annotations** diccionario con anotaciones diversas\n",
    "- **.features** lista de objetos **SeqFeature** con anotación de la secuencia\n",
    "- **.dbxrefs** lista de referencias cruzadas con oatras bases de datos"
   ]
  },
  {
   "cell_type": "markdown",
   "id": "0d5f3f2a-e2e7-40eb-8034-1830e41dd868",
   "metadata": {},
   "source": [
    "## Parseo con archivos (SeqIO)\n",
    "\n",
    "La clase **SeqIO** permite el parseo (lectura+procesamiento) de archivos estándares. Estos archivos pueden existir local o remotamente, y estar comprimidos o no (ver documentación). A continuación se muestra la lectura de un archivo **FASTA**."
   ]
  },
  {
   "cell_type": "code",
   "execution_count": null,
   "id": "e5dd52a7-8934-427b-b43f-5bc25955d261",
   "metadata": {},
   "outputs": [],
   "source": [
    "!cat Test.fasta"
   ]
  },
  {
   "cell_type": "code",
   "execution_count": null,
   "id": "ff076a98-851a-4669-aa86-3db5acc7924b",
   "metadata": {},
   "outputs": [],
   "source": [
    "from Bio import SeqIO\n",
    "for seq_record in SeqIO.parse('Test.fasta','fasta'):\n",
    "    print(seq_record.id)           # ID\n",
    "    print(seq_record.description)  # descripción (toda la fila)\n",
    "    print(repr(seq_record.seq))    # secuencia\n",
    "    print(len(seq_record))         # largo de secuencia\n",
    "    print('-----------------------')"
   ]
  },
  {
   "cell_type": "markdown",
   "id": "d9013315-1584-4abc-bdf7-1c07ed379fa1",
   "metadata": {},
   "source": [
    "Otro formato parseable es un registro **GenBank**, como se muestra a continuación. Note que el cambio en el código es mínimo"
   ]
  },
  {
   "cell_type": "code",
   "execution_count": null,
   "id": "ad6a1ec1-482d-4eca-a6e5-309c513fe68b",
   "metadata": {},
   "outputs": [],
   "source": [
    "# (archivo largo, sólo se mostrarán las primeras 40 líneas)\n",
    "!head -n 40 PKD2.gb"
   ]
  },
  {
   "cell_type": "code",
   "execution_count": null,
   "id": "13a25cb1-e988-4e3b-976c-1132e887dceb",
   "metadata": {},
   "outputs": [],
   "source": [
    "from Bio import SeqIO\n",
    "for seq_record in SeqIO.parse('PKD2.gb','genbank'): # La única línea que cambió\n",
    "    print(seq_record.id)           # id\n",
    "    print(seq_record.name)         # nombre\n",
    "    print(seq_record.description)  # descripción\n",
    "    print(repr(seq_record.seq))    # secuencia\n",
    "    print(len(seq_record))         # largo de secuencia\n",
    "    \n",
    "    print(seq_record.annotations['source']) # origen de la muestra\n",
    "    print(f' Número de features: {len(seq_record.features)}')"
   ]
  },
  {
   "cell_type": "markdown",
   "id": "11313e40-eeb1-4e03-b28a-3083d8a406f4",
   "metadata": {},
   "source": [
    "Los archivos GenBank poseen mucha información, incluyendo, además de la secuencia misma, la anotación de los features y la bibliografía asociada.\n",
    "\n",
    "Es posible obtener los features de manera independiente recorriendo el miembro **.features**"
   ]
  },
  {
   "cell_type": "code",
   "execution_count": null,
   "id": "9d25c795-b7da-4747-ba4b-dbfd30a4cde8",
   "metadata": {},
   "outputs": [],
   "source": [
    "# SeqFeature\n",
    "for i in seq_record.features:\n",
    "    if i.type == 'CDS':   #probar con 'exon'\n",
    "        print(i)\n",
    "        print('----------------------')\n",
    "        print(i.location)\n",
    "        print('======================')\n",
    "    "
   ]
  },
  {
   "cell_type": "markdown",
   "id": "727703af-556c-46f1-abf0-958f653409e6",
   "metadata": {},
   "source": [
    "<img src=\"images/entrez_logo.png\" alt=\"Logo entrez\" style=\"width: 200px;\"/>\n",
    "\n",
    "## Accediendo a NCBI vía Entrez\n",
    "\n",
    "**Entrez** es un sistema de base de datos y de consulta a cerca de 20 bases de datos de NCBI a través de Internet.\n",
    "\n",
    "Biopython provee una forma de generar consultas a Entrez, para descargar información desde NCBI en diversos formatos.\n",
    "\n",
    "A continuación se muestra un ejemplo en el cual se consulta a la base de datos de nucleótidos sobre el registro de ID 205277388 (como argumento también se puede usar el Accession number), y se solicita obtener como respuesta un archivo FASTA en formato texto.\n",
    "\n",
    "> **¿Qué son los \"handlers\"?**<br>\n",
    "> Al manejar grandes volúmenes de datos es poco práctico cargarlos en memoria, pues se corre el riesgo de agotar los resursos del sistema. Una alternativa a esto es recorrer los archivos a medida que se leen, retrasando la lectura de una parte del archivo hasta que sea necesario, y descartando la información ya consumida. Un handler es un objeto que pemtite hacer esto.\n"
   ]
  },
  {
   "cell_type": "code",
   "execution_count": null,
   "id": "b6a6409d-c7fc-4f01-9e5b-321e0319eefd",
   "metadata": {},
   "outputs": [],
   "source": [
    "from Bio import Entrez\n",
    "from Bio import SeqIO\n",
    "Entrez.email = \"micorreo@uach.cl\"\n",
    "\n",
    "with Entrez.efetch(db=\"nucleotide\", rettype=\"fasta\", retmode=\"text\", id=\"205277388\") as handle: #ID: 205277388, Accession number: NG_008604.1\n",
    "    seq_record = SeqIO.read(handle, \"fasta\")\n",
    "    \n",
    "    print(f'{seq_record.id} with {len(seq_record.features)} features')\n",
    "    print(f'Primeras 500 letras de la secuencia: {seq_record.seq[0:500]}')"
   ]
  },
  {
   "cell_type": "markdown",
   "id": "916b5aee-f4be-4b42-a1a7-d8bee5ee7b44",
   "metadata": {},
   "source": [
    "En el ejemplo anterior, no se muestran features porque el archivo solicitado (FASTA) no contiene información sobre features. Si repetimos la búsqueda, pero esta vez solicitamos el retorno de un archivo GenBank, se obtiene lo siguiente:"
   ]
  },
  {
   "cell_type": "code",
   "execution_count": null,
   "id": "03a68263-2d81-4690-a26c-606a33e6aec2",
   "metadata": {},
   "outputs": [],
   "source": [
    "from Bio import Entrez\n",
    "from Bio import SeqIO\n",
    "Entrez.email = \"micorreo@uach.cl\"\n",
    "\n",
    "with Entrez.efetch(db=\"nucleotide\", rettype=\"gb\", retmode=\"text\", id=\"205277388\") as handle:\n",
    "    seq_record = SeqIO.read(handle, \"gb\")\n",
    "\n",
    "    print(f'{seq_record.id} with {len(seq_record.features)} features:')\n",
    "    print(f'\\n------------------------ .name: {seq_record.name}')\n",
    "    print(f'\\n------------------------ .description: {seq_record.description}')\n",
    "    print(f'\\n------------------------ .letter_annotations: {seq_record.letter_annotations}')\n",
    "    print(f'\\n------------------------ .annotations: {seq_record.annotations}')\n",
    "    print(f'\\n------------------------ .dbxrefs: {seq_record.dbxrefs}')\n",
    "    print('\\n------------------------ .features:')\n",
    "    for a in seq_record.features:\n",
    "        print(a)\n"
   ]
  },
  {
   "cell_type": "markdown",
   "id": "0e8bd4d4-c9d9-4b49-b563-cfe574cbb64d",
   "metadata": {},
   "source": [
    "## BLAST\n",
    "\n",
    "BLAST es una de las herramientas más populares entre los investigadores de genética. Permite enviar una secuencia y determinar en algunos segundos o minutos un listado de posibles alineamientos contra todos los organismos almacenados en las bases de datos de NCBI, ordenados de acuerdo a su probabilidad.\n",
    "\n",
    "Biopython permite BLASTear una secuencia ya sea utilizando el servicio en Internet, o bien localmente. Note que la segunda alternativa requiere mantener localmente actualizados los genomas de referencia e índices de todas los organismos contra los cuales se desee contrastar la secuencia query.\n"
   ]
  },
  {
   "cell_type": "code",
   "execution_count": null,
   "id": "3b6ed7d7-745e-422f-83b6-3093285ef444",
   "metadata": {},
   "outputs": [],
   "source": [
    "from Bio.Blast import NCBIWWW\n",
    "help(NCBIWWW.qblast) # para obtener ayuda"
   ]
  },
  {
   "cell_type": "markdown",
   "id": "fffe1bcc-80cf-4c31-affd-98d865621e31",
   "metadata": {},
   "source": [
    "El método para realizar las consultas es **qblast**, el cual se invoca con 3 argumentos:\n",
    "1. El algoritmo que se invoca: **blastn** (nucleótidos), blastp, blastx, tblast o tblastx.\n",
    "2. La base de datos que se consulta: **nt**, genome, protein, SNP, etc.\n",
    "3. La secuencia query: ya sea como **secuencia**, un archivo FASTA o un *GI number* (Identificador de secuencia, reemplazado por los *Accession numbers* en 2016)\n",
    "\n",
    "El resultado de una consulta vía qblast es un handler a los datos. Dado que los handlers sólo permiten leer los datos una vez, es buena idea almacenar la respuesta en un archivo. Esto se puede hacer en varios formatos, pero se recomienda XML por ser el más estable. El siguiente ejemplo ilustra este proceso. Dependiendo de la complejidad de la búsqueda y de la carga del servidor, la ejecución puede tardar algunos minutos.\n"
   ]
  },
  {
   "cell_type": "code",
   "execution_count": null,
   "id": "99dae57f-c60b-4fce-8878-7b1e37056dd8",
   "metadata": {},
   "outputs": [],
   "source": [
    "from Bio.Blast import NCBIWWW\n",
    "from Bio.Seq import Seq\n",
    "secuencia = Seq('agagtgagactctgtctcaaacaaaaaaaaaaacagagacagaaaaaaagaaagaaaatatatggatgtatatcatataaaaatataaataagggaggccaagtgcagtggcatgcctgtaatcccagcactttgggaggctgaagcaggaggatcacttgaggccgagaattcgagaccagcctgggcaacgtattgagacctcatctctgcaaaaaatcaaaaaatgaggcggaaggatggcttgagcccaggagatcaagccttcagtgagctgtgatcgtaccactacactcca')\n",
    "\n",
    "result_handle = NCBIWWW.qblast(\"blastn\", \"nt\", secuencia)\n",
    "\n",
    "with open(\"resultado_blast.xml\", \"w\") as out_handle:\n",
    "    out_handle.write(result_handle.read())\n",
    "result_handle.close()\n",
    "print('***archivo almacenado***')"
   ]
  },
  {
   "cell_type": "markdown",
   "id": "f51fa37b-f4bb-4745-ac0e-5fb207a64366",
   "metadata": {},
   "source": [
    "El archivo XML generado se puede explorar a simple vista o con ayuda de algún visor de XML (un visor online es https://xml.onlineviewer.net/), y contiene todos los alineamientos que BLAST encontró para la secuencia enviada. Entre los conceptos relevantes se encuentran los siguientes:\n",
    "\n",
    "* **Hit**: representa una secuencia en la BD en donde la secuencia query hizo match. Un hit es títpicamente una secuencia almacenada en NCBI con la que la secuencia query tuvo similitud.\n",
    "\n",
    "* **HSP**: (**H**igh-scoring **S**egment **P**air) representa una instancia de match significativo entre la secuencia de query y el hit. Un HSP es una *parte* de la secuencia \"Hit\" en la que se logra un alineamiento con pocos o ningún gap (lo que sería una diagonal en la matriz de Needleman-Wunsh o Smith-Waterman).\n",
    "\n",
    "Los niveles anidados del XML, representan diferentes objetos de Biopython, que se estructuran de la siguiente manera:\n",
    "\n",
    "- **BlastOutput** retorno de la consulta a BLAST\n",
    "\t- **BlastOutput_iterations** Listado invocaciones a BLAST (puede generarse un XML de múltiples consultas)\n",
    "\t\t- **Iteration** Cada iteración corresponde a una consulta a BLAST con una secuencia query\n",
    "\t\t\t- **Iteration_hits** Listado de **hits**. Puede haber uno o varios hits\n",
    "                - **Hit** Cada **hit** encontrado.\n",
    "\t\t\t\t\t- **Hit_hsps** Listado de **HSP**s (**H**igh-scoring **S**egment **P**air) \n",
    "\t\t\t\t\t\t- **Hsp** Cada **HSP**, incluyendo datos como la posición dentro del hit, el largo del alineamiento, el score del alineamiento y el alineamiento mismo\n",
    "\n",
    "Este archivo puede ser grande. A continuación se despliegan las 60 primeras líneas del XML obtenido anteriormente\n"
   ]
  },
  {
   "cell_type": "code",
   "execution_count": null,
   "id": "b0b11474-b36f-4e29-bed7-3430012d29fe",
   "metadata": {},
   "outputs": [],
   "source": [
    "!head -n 60 resultado_blast.xml"
   ]
  },
  {
   "cell_type": "markdown",
   "id": "c6b6b96f-5def-4954-9422-fd59a4a8e56e",
   "metadata": {},
   "source": [
    "### Parseando la respuesta de BLAST\n",
    "\n",
    "Una vez almacenado el archivo, los registros pueden recorrerse utilizando la librería NCBIXML. Existen básicamente dos métodos para parsear resultados: **read** que se utiliza (como en nuestro ejemplo) cuando el XML contiene los resultados de solo una consulta a BLAST (i.e., una iteración), y **parse**, cuando contiene más de una.\n",
    "\n",
    "Si se utiliza **read**, se obtienen los datos de la única iteración del XML y del cual se pueden obtener los distintos Hits y HSPs.\n",
    "\n",
    "Si se usa **parse**, se obtiene un handler, del cual se van obteniendo las iteraciones una a una, los cuales puede procesarse de la misma forma anterior\n",
    "\n",
    "(Note que los nombres de los campos en el XML no necesariamente coinciden con los del objeto de Biopython)\n"
   ]
  },
  {
   "cell_type": "code",
   "execution_count": null,
   "id": "de857b21-4f10-4fc7-9441-1d16077e580f",
   "metadata": {},
   "outputs": [],
   "source": [
    "resultados = open(\"resultado_blast.xml\")\n",
    "\n",
    "from Bio.Blast import NCBIXML\n",
    "\n",
    "# alternativa 1: solo una consulta\n",
    "blast_record = NCBIXML.read(resultados)\n",
    "\n",
    "# alternativa 2: más de una consulta\n",
    "#blast_records = NCBIXML.parse(result_handle) # retorna handler\n",
    "#blast_record = next(blast_records) # del handler obtiene el primer registro\n",
    "\n",
    "# variables para limitar visualización\n",
    "hits_mostrados = 0\n",
    "hsps_mostrados = 0\n",
    "max_hits_a_mostrar = 2\n",
    "max_hsps_a_mostrar = 3\n",
    "\n",
    "for alineamiento in blast_record.alignments:  # alignments se refiere a los hits\n",
    "    for hsp in alineamiento.hsps: # recore HSPs\n",
    "        print(f'=== Alineamiento  (Hit:{hits_mostrados} HSP:{hsps_mostrados}) ===================')\n",
    "        print(f' Secuencia          : {alineamiento.title}') # title concatena tags hit_id y hit_def\n",
    "        print(f' Largo hit          : {alineamiento.length}') # se refiere al largo del gentag hit_len\n",
    "        print(f' Largo alineamiento : {hsp.align_length}') # largo del alineamiento (c.f. help(hsp))\n",
    "        print(f' e value            : {hsp.expect}') # se refiere al tag Hsp_evalue\n",
    "\n",
    "        # lo siguiente es solo para limitar la cantidad de registros mostrados\n",
    "        hsps_mostrados += 1\n",
    "        if hsps_mostrados >= max_hsps_a_mostrar:\n",
    "            hsps_mostrados = 0\n",
    "            break\n",
    "    hits_mostrados += 1\n",
    "    if hits_mostrados >= max_hits_a_mostrar:\n",
    "        break\n",
    "\n",
    "resultados.close()\n"
   ]
  },
  {
   "cell_type": "markdown",
   "id": "4b390e01-707a-466e-929e-ddaa6f3dad56",
   "metadata": {},
   "source": [
    "## Tarea 4\n",
    "\n",
    "Cree un programa ejecutable desde la línea de comandos, que al ser invocado reciba como argumento una secuencia query. Esta secuencia deberá ser BLASTeada online. De los resultados obtenidos (correspondientes a alineamientos), el programa deberá considerar el primer HSP del primer Hit y extraer el identificador del gen en el cual se encuentra, para posteriormente descargar información sobre este gen y mostrar la siguiente información:\n",
    "\n",
    "- Especie a la que pertenece\n",
    "- Gen al cual pertenece, indicando:\n",
    "    - cromosoma en el que se encuentra\n",
    "    - Ubicación y hebra (+/-)\n",
    "    - número de exones que posee el gen\n",
    "\n",
    "Ejemplo:\n",
    "\n",
    "> $ ./Blastea_e_informa.py CTAGCTAGCTAGCTAGTCATGCATGCTAGCTACTCGATCG<br>\n",
    "> BLASTeando secuencia...<br>\n",
    "> Obteniendo información del gen...<br>\n",
    ">   Especie: Homo sapiens<br>\n",
    ">   Gen identificado: DNAJB11<br>\n",
    ">   Ubicación: 3q27.3 +<br>\n",
    ">   Exones en el gen: 11"
   ]
  },
  {
   "cell_type": "code",
   "execution_count": null,
   "id": "311df517-0e8f-471d-b7ec-34fae0929d7f",
   "metadata": {},
   "outputs": [],
   "source": []
  }
 ],
 "metadata": {
  "kernelspec": {
   "display_name": "Python 3 (ipykernel)",
   "language": "python",
   "name": "python3"
  },
  "language_info": {
   "codemirror_mode": {
    "name": "ipython",
    "version": 3
   },
   "file_extension": ".py",
   "mimetype": "text/x-python",
   "name": "python",
   "nbconvert_exporter": "python",
   "pygments_lexer": "ipython3",
   "version": "3.9.12"
  }
 },
 "nbformat": 4,
 "nbformat_minor": 5
}
