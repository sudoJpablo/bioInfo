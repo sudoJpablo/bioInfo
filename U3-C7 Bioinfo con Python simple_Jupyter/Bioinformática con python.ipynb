{
 "cells": [
  {
   "cell_type": "markdown",
   "id": "a609580d-22ef-4984-80fa-d35283617cc5",
   "metadata": {},
   "source": [
    "# Bioinformática con Python simple\n",
    "\n",
    "## Contenidos de este tutorial\n",
    "\n",
    "1. Manejo de secuencias como strings\n",
    "    1. Búsqueda de substring\n",
    "    1. Manejo de strings\n",
    "    1. Secuencia complementaria por reemplazo de bases\n",
    "    \n",
    "1. Expresiones regulares\n",
    "    1. Método search\n",
    "    1. Método findall\n",
    "    1. expresiones regulares\n",
    "    \n",
    "1. Invocación de archivo Python desde línea de comando\n",
    "    1. Encabezado del archivo, permisos\n",
    "    1. Invocación con argumentos\n",
    "\n",
    "1. Ejemplos\n",
    "    1. Indexación de k-mers de una secuencia\n",
    "    1. Parseo de archivos FASTA\n",
    "\n",
    "1. Tarea\n",
    "    1. Presentación\n",
    "    1. Entregables\n",
    "    1. Pograma 1: Alineamiento de partidores degenerados\n",
    "    1. Pograma 2: Identificación y transcripción de ORFs\n",
    "  "
   ]
  },
  {
   "cell_type": "markdown",
   "id": "cc024de3-2d27-427e-8a2e-3dbe6a3a9f7c",
   "metadata": {},
   "source": [
    "## 1.Manejo de secuencias como Strings\n",
    "\n",
    "La clase string provee algunos métodos que podemos utilizar para manejar secuencias"
   ]
  },
  {
   "cell_type": "code",
   "execution_count": null,
   "id": "ecc24dcd-25b6-48b8-9e7b-985ede68e0b4",
   "metadata": {},
   "outputs": [],
   "source": [
    "ADN = 'CATCTACTAGCTAGCTAGCTATGTAGTAGCCTACTAGCTAGCTAGCATTTCATATCTATCTAG'\n",
    "print(ADN)"
   ]
  },
  {
   "cell_type": "markdown",
   "id": "efc66c5a",
   "metadata": {},
   "source": [
    "### 1.A Búsqueda de substring\n",
    "\n",
    "Se puede buscar un substring con el método **find**, que retornará la posición (0-based) de la primera ocurrencia del patrón buscado a partir de la posición indicada (por defecto el principio del string). Si no está presente, retorna -1.\n"
   ]
  },
  {
   "cell_type": "code",
   "execution_count": null,
   "id": "c3d25dda",
   "metadata": {},
   "outputs": [],
   "source": [
    "def busca(ADN:str, seq:str):\n",
    "    pos = -1\n",
    "    while True:\n",
    "        pos = ADN.find(seq, pos+1)\n",
    "        if pos != -1:\n",
    "            print(f'secuencia {seq} encontrada en la posición {pos}')\n",
    "        else:\n",
    "            break\n",
    "    \n",
    "ADN = 'CATCTACTAGCTAGCTAGCTATGTAGTAGCCTACTAGCTAGCTAGCATTTCATATCTATCTAG'\n",
    "busca(ADN,'TAG')"
   ]
  },
  {
   "cell_type": "markdown",
   "id": "1ada29b5-a887-4b12-8335-619810c0f597",
   "metadata": {},
   "source": [
    "### 1.B Manejo de strings\n",
    "\n",
    "Los strings se manejan como listas (0-based), desde las cuales se pueden extraer subtrings, o bien invertirlos\n"
   ]
  },
  {
   "cell_type": "code",
   "execution_count": null,
   "id": "b272ef05-9495-48c0-87ca-88d449f4b878",
   "metadata": {},
   "outputs": [],
   "source": [
    "st = \"abcdefgh\"\n",
    "\n",
    "print(st[3:5]) # rango semiabierto: imprime los caracteres en posiciones 3 y 4\n",
    "\n",
    "print(st[::-1]) # imprime string en orden inverso"
   ]
  },
  {
   "cell_type": "markdown",
   "id": "638db579-a664-41c8-9f08-eabee5d7ded6",
   "metadata": {},
   "source": [
    "### 1.C Secuencia complementaria por reemplazo de bases\n",
    "\n",
    "Para obtener la secuencia complementaria podemos utilizar una función que tiene un diccionario con la conversión deseada"
   ]
  },
  {
   "cell_type": "code",
   "execution_count": null,
   "id": "3f79aa2b-7679-4db8-b95c-67e2adf54356",
   "metadata": {},
   "outputs": [],
   "source": [
    "def complementario(DNA):\n",
    "    comp = {'A':'T','T':'A','G':'C','C':'G'}\n",
    "    DNAc = ''\n",
    "    for b in DNA:\n",
    "        DNAc = DNAc + comp[b]\n",
    "    return DNAc\n",
    "\n",
    "DNA2 = 'CTAATGT'\n",
    "\n",
    "print(f'La secuencia complementaria de {DNA2} es {complementario(DNA2)}')"
   ]
  },
  {
   "cell_type": "markdown",
   "id": "ce1de7ca-ef4f-44e5-9549-87ace2ccfb39",
   "metadata": {},
   "source": [
    "Para obtener la secuencia de la hebra complementaria (desde 5' a 3' de la hebra complementaria), se debe calcular el reverso complementario:"
   ]
  },
  {
   "cell_type": "code",
   "execution_count": null,
   "id": "b2eed327-d5f5-477a-9d6f-ffa92b2e8cd6",
   "metadata": {},
   "outputs": [],
   "source": [
    "DNA3 = 'CCCGGT'\n",
    "print(f'La secuencia reversa complementaria de {DNA3} es {complementario(DNA3)[::-1]}')"
   ]
  },
  {
   "cell_type": "markdown",
   "id": "3394b3f0-4243-4cf3-ad99-5910feba7189",
   "metadata": {
    "tags": []
   },
   "source": [
    "## 2. Expresiones regulares\n",
    "\n",
    "### 2.A Expresiones regulares\n",
    "\n",
    "En algunas ocasiones es necesario encontrar un texto que responde a un patrón. Por ejemplo, cuando se desea validar una dirección de e-mail, en el formato **prefijo@dominio** en donde existen condiciones talees como que el prefijo no puede comenzar con un número o caracter especial, y el dominio debe terminar con un punto seguido de un dominio existente (.com, .cl, etc.). En este patrón, pueden calzar millones de direcciones de e-mail diferentes, y nos convendría poder verificarlas de una manera genérica.\n",
    "\n",
    "Las expresiones regulares pueden componerse de distintas formas, al igual como se utilizan en **sed** o **awk**. A continuación se explican algunos de los caracteres especiales para construirlas (ver más detalle [acá](https://docs.python.org/3/library/re.html)).\n",
    "\n",
    "\n",
    "| caracter | significado | ejemplo | explicación |\n",
    "| --- | --- | --- | --- |\n",
    "| . | cualquier caracter único| CA.A | reconoce strings *CASA*, *CAmA*, *CA!A*, *CA A*etc. |\n",
    "| ^ | inicio del string | ^El | reconoce *solo* strings que comiencen con *El* |\n",
    "| \\$ | fin del string | da$ | reconoce *solo* strings que terminen en *da* |\n",
    "| ( ) | agrupación | (ABC) | reconoce *solo* strings que contengan *ABC* |\n",
    "| \\[ \\] | conjunto de caracteres| \\[ABC\\] | reconoce strings que tengan A, B o C |\n",
    "| * | 0 o más caracteres| \\[A-Z\\]*| reconce strings compuestos por 0 o más letras mayúsculas |\n",
    "| + | 1 o más caracteres | \\[A-Z\\]+| reconce strings compuestos por 1 o más letras mayúsculas |\n",
    "| \\ | escape | ción\\\\.| reconoce strings terminados en *ción.* (con punto final)|\n",
    "| \\| | OR | (AA\\|BB) | reconoce strings *AA* o *BB*|\n",
    "\n"
   ]
  },
  {
   "cell_type": "markdown",
   "id": "b9550a34",
   "metadata": {},
   "source": [
    "### 2.B Método search\n",
    "\n",
    "Python provee la librería **re** para el manejo de expresiones regulares. Una de las funciones principales es **search**, que devuelve un objeto de clase re.Match (match object). En el siguiente ejemplo, dado un string, se desea encontrar un substring que cumpla con contener el string **cons**, terminar en **des** y entre ellos tener 0 o mas caracteres cualquiera."
   ]
  },
  {
   "cell_type": "code",
   "execution_count": null,
   "id": "21e1cd56-725b-4061-80d1-5a9cf5054d4b",
   "metadata": {},
   "outputs": [],
   "source": [
    "import re as re\n",
    "\n",
    "txt = 'El rey de Constantinopla se quiere desconstantinopolizar, el que logre desconstatinopolizarlo, desconstantinopolizador será'\n",
    "\n",
    "x = re.search('cons.*des',txt)\n",
    "\n",
    "print('Match object:')\n",
    "print(type(x))\n",
    "print(x)\n"
   ]
  },
  {
   "cell_type": "markdown",
   "id": "6b13eb81-00fc-467e-8af8-fad739ac6734",
   "metadata": {},
   "source": [
    "El objeto match contiene distinta información (el string original, las posiciones de match, etc.), las cuales pueden ser obtenidas:"
   ]
  },
  {
   "cell_type": "code",
   "execution_count": null,
   "id": "0f710b2a-9476-4704-92b8-0a26482aed5f",
   "metadata": {},
   "outputs": [],
   "source": [
    "\n",
    "print('String original:')\n",
    "print(x.string)\n"
   ]
  },
  {
   "cell_type": "code",
   "execution_count": null,
   "id": "dfc6f2b5-923e-4f16-a588-9d7de36e4c53",
   "metadata": {},
   "outputs": [],
   "source": [
    "\n",
    "print('String que hizo match:')\n",
    "print(x.group())\n"
   ]
  },
  {
   "cell_type": "code",
   "execution_count": null,
   "id": "455e669d-543d-4265-8439-cc1efe4d0059",
   "metadata": {},
   "outputs": [],
   "source": [
    "\n",
    "print('Coordenadas del string que hizo match:')\n",
    "print(str(x.span()))\n",
    "\n",
    "print(txt[x.span()[0]:x.span()[1]])\n"
   ]
  },
  {
   "cell_type": "code",
   "execution_count": null,
   "id": "8efaf70f-4dcc-4d7d-bef4-4d8fd8949dd3",
   "metadata": {},
   "outputs": [],
   "source": [
    "\n",
    "print('Coordenada de inicio del string que hizo match:')\n",
    "print(str(x.start()))\n"
   ]
  },
  {
   "cell_type": "code",
   "execution_count": null,
   "id": "643d44c6-1398-4308-b9cc-d5c0217e6024",
   "metadata": {},
   "outputs": [],
   "source": [
    "\n",
    "print('Coordenada de fin del string que hizo match:')\n",
    "print(str(x.end()))\n"
   ]
  },
  {
   "cell_type": "markdown",
   "id": "472c883b-506a-4ce2-8f60-11e9dd86fa7c",
   "metadata": {},
   "source": [
    "### 2.C Método findall\n",
    "\n",
    "El método **search** retorna el primer match que encuentra en el string. Para retornar todos los match posibles, se puede usar **findall**, que retorna una lista con los strings identificados.\n",
    "\n",
    "Una expresión regular puede hacer match en varias partes del string. Es posible entregar una expresión regular al método **findall** y obtener una lista con todos los strings identificados. El siguiente ejemplo identifica dentro de una cadena de ARNm los posibles codones que pudieran traducirse al aminoácido Serina. La Serina está sintetizada a partir de 6 codones distintos: UCA, UCG, UCC, UCU, AGC y AGU. Estas cuatro combinaciones pueden ser representadas por la expresión regular **(UC.|AG\\[CU\\])** (\"UC\" seguido de cualquier letra única, o bien \"AG\" seguido de \"C\" o \"U\")"
   ]
  },
  {
   "cell_type": "code",
   "execution_count": null,
   "id": "044014d5",
   "metadata": {},
   "outputs": [],
   "source": [
    "RNA1 = 'UCAGU'\n",
    "print(re.findall('(UC.|AG[CU])',RNA1))\n",
    "\n",
    "RNA2 = 'UCAGUGGCUAGCCGGUUCACAUUCUACUCG'\n",
    "print(re.findall('(UC.|AG[CU])',RNA2))\n"
   ]
  },
  {
   "cell_type": "markdown",
   "id": "07f11e6b-df67-48da-a639-577fb8d8bb2a",
   "metadata": {},
   "source": [
    "Note que findall **no encuentra expresiones traslapadas**. Para RNA1 sólo encuentra **UCA** y no **AGU**."
   ]
  },
  {
   "cell_type": "markdown",
   "id": "5bbd4c82-0024-4ea2-bfbc-7d1b3cbc10e7",
   "metadata": {},
   "source": [
    "## 3. Invocación de archivo Python desde línea de comando\n",
    "\n",
    "### 3.A Encabezado del archivo, permisos\n",
    "\n",
    "En Linux, puede hacerse que un programa en Python sea ejecutable indicando al sistema operativo dos cosas:\n",
    "- Que el programa debe ejecutarse con el intérprete de python\n",
    "- Que el archivo es ejecutable\n",
    "\n",
    "Para lo primero es necesario incluir dos líneas al principio del programa, que indiquen al sistema operativo con qué programa (intérprete Pyton) debe ejecutarse el programa, y la codificación del archivo."
   ]
  },
  {
   "cell_type": "code",
   "execution_count": null,
   "id": "2b9d2d98-f84d-4256-87f2-d8525ff31f80",
   "metadata": {},
   "outputs": [],
   "source": [
    "#!/usr/bin/env python3\n",
    "# -*- coding: utf-8 -*-\n",
    "\n",
    "def despedida():\n",
    "    print('Chao mundo')\n",
    "\n",
    "def main():\n",
    "    print('Hola mundo')\n",
    "    despedida()\n",
    "\n",
    "if __name__ == \"__main__\":\n",
    "    main()\n",
    "    "
   ]
  },
  {
   "cell_type": "markdown",
   "id": "9665d899-5be5-4de9-999a-d690bc5b9f92",
   "metadata": {},
   "source": [
    "la condición **if** se activa si el programa es invocado directamente, ejecutando lo que haya en la función **main**. Por el contrario, si el programa es invocado mediante la cláusula **include** desde otro prorama, **main** no se ejecutará, pero el programa podrá usar la definición de las funciones que están en el archivo, tales como **depedida**.\n",
    "\n",
    "Para indicar al sistema operativo que este archivo es ejecutable, debemos asignar permiso de ejecución al archivo mediante el comando chmod:\n",
    "\n",
    "  **$ chmod +x archivo_python.py**\n",
    " \n",
    "De esta forma, el archivo podrá invocarse sin mencionar explícitamente al intérprete de Python de la siguiente forma:\n",
    "\n",
    "  **$ ./archivo_python.py**"
   ]
  },
  {
   "cell_type": "markdown",
   "id": "9d17ca9a-a514-4afe-827c-84c111dd8c90",
   "metadata": {},
   "source": [
    "### 3.B Invocación con argumentos\n",
    "\n",
    "Al invocar un archivo ejecutable, se le pueden pasar parámetros a través de la línea de comandos, los cuales son recibidos en la lista **sys.argv**. El siguiente programa informa sobre los argumentos de invocación y verifica que la cantidad de ellos sea correcto (este ejemplo no funciona al ejecutarlo en Jupyter)"
   ]
  },
  {
   "cell_type": "code",
   "execution_count": null,
   "id": "157a3fb1-d946-46b1-a0cc-7dedffd88d2a",
   "metadata": {},
   "outputs": [],
   "source": [
    "#!/usr/bin/env python3\n",
    "# -*- coding: utf-8 -*-\n",
    "\n",
    "import sys\n",
    "\n",
    "def main():\n",
    "    print(f'Existen {len(sys.argv)} argumentos de invocación y son:')\n",
    "    print(sys.argv)\n",
    "    \n",
    "    # verificación de argumentos de invocación\n",
    "    if len(sys.argv) != 3:\n",
    "        print (f'USO: {sys.argv[0]} <archivo FASTA> <archivo BED>')\n",
    "        sys.exit()\n",
    "        \n",
    "if __name__ == \"__main__\":\n",
    "    main()"
   ]
  },
  {
   "cell_type": "markdown",
   "id": "590cd248-9800-4fae-8970-e384e8aa8011",
   "metadata": {},
   "source": [
    "De esta forma, si **programa.py** espera recibir dos parámetros (además del nombre del archivo ejecutable), la respuesta al ser invocado con un número ddiferente de parámetros será\n",
    "\n",
    "**$ ./programa.py**<br>\n",
    "Existen 1 argumentos de invocación y son:<br>\n",
    "\\['./programa.py'\\]<br>\n",
    "USO: ./ejecución.py \\<archivo FASTA> \\<archivo BED>\n",
    "\n",
    "\n",
    "**$ ./programa.py bla ble**<br>\n",
    "Existen 3 argumentos de invocación y son:<br>\n",
    "\\['./programa.py', 'bla', 'ble'\\]\n",
    "\n"
   ]
  },
  {
   "cell_type": "markdown",
   "id": "d98dbf72-4472-4f2c-9f9b-eb8284bd3c38",
   "metadata": {
    "tags": []
   },
   "source": [
    "## 4. Ejemplos\n",
    "\n",
    "### 4.A Indexación de k-mers de una secuencia\n",
    "\n",
    "En este ejemplo se creará una función que recibe una secuencia de ADN y un valor k, para retornar un diccionario con el índice de los k-mers encontrados en la secuencia.\n"
   ]
  },
  {
   "cell_type": "code",
   "execution_count": null,
   "id": "b3b9487f-4fde-47fd-9b8f-67094911c6b9",
   "metadata": {},
   "outputs": [],
   "source": [
    "def make_index(DNA, k):\n",
    "    index = dict() # diccionario en donde se almacenará el índice\n",
    "    pos = 0\n",
    "    while pos < len(DNA)-k+1:\n",
    "        if DNA[pos:pos+k] not in index:\n",
    "            # crear registro en diccionario\n",
    "            index[DNA[pos:pos+k]] = [pos]\n",
    "        else:\n",
    "            # agregar posición\n",
    "            index[DNA[pos:pos+k]].append(pos)\n",
    "        pos += 1\n",
    "    return index\n",
    "\n",
    "DNA = 'CATCTCATC'\n",
    "\n",
    "index = make_index(DNA,3)\n",
    "print(\"Indice con k=3: \")\n",
    "print(index)\n",
    "\n",
    "index = make_index(DNA,4)\n",
    "print(\"Indice con k=4: \")\n",
    "print(index)\n"
   ]
  },
  {
   "cell_type": "markdown",
   "id": "305c39b2-b281-48db-882d-bd9755716320",
   "metadata": {},
   "source": [
    "### 4.B Parseo de archivos FASTA\n",
    "\n",
    "En este ejemplo se creará una función que lee un archivo FASTA y retorna un diccionario cuya **clave** es el encabezado de cada secuencia del FASTA y **valor** la secuencia correspondiente. Hay que tener en cuenta que la secuencia puede estar dividida en distintas líneas y que pueden existir líneas vacías.\n",
    "\n",
    "Como ejemplo consideraremos el siguiente archivo FASTA:"
   ]
  },
  {
   "cell_type": "code",
   "execution_count": null,
   "id": "16b9dab8-9522-4180-a554-49668ff796b3",
   "metadata": {},
   "outputs": [],
   "source": [
    "!cat Test.fasta"
   ]
  },
  {
   "cell_type": "code",
   "execution_count": null,
   "id": "de0ddf1b-5211-4b99-922f-20c77b7cf1fb",
   "metadata": {},
   "outputs": [],
   "source": [
    "def parsea_FASTA(archivof):\n",
    "    records = dict()\n",
    "    with open(archivof, \"r\") as f:\n",
    "        primer_registro = True\n",
    "        for l in f:\n",
    "            if l[0] == \">\":\n",
    "                if not primer_registro:\n",
    "                    records[header] = seq\n",
    "                header = l[1:].strip()\n",
    "                seq =\"\"\n",
    "                primer_registro = False\n",
    "            else:\n",
    "                seq = seq+l.strip()\n",
    "        records[header] = seq\n",
    "    return records\n",
    "\n",
    "rec = parsea_FASTA(\"Test.fasta\")\n",
    "print(rec)"
   ]
  },
  {
   "cell_type": "markdown",
   "id": "fb767261-9ba5-4ec6-93b2-f00bcd450ab4",
   "metadata": {
    "tags": []
   },
   "source": [
    "## 5. Tarea 2\n",
    "\n",
    "### 5.A Presentación\n",
    "\n",
    "Esta tarea tiene como propósito generar dos utilidades para el procesamiento de secuencias, introduciendo dos conceptos. La correcta realización de esta tarea demostrará su manejo de los conceptos biológicos y su habilidad en programación.\n",
    "\n",
    "### 5.B Entregables\n",
    "\n",
    "Se deberán entregar dos archivos Python, los cuales serán subidos a Siveduc en la fecha acordada, comprimidos en un archivo zip con formato de nombre **Bioinfo_Tarea2_nombre_apellido.zip**. Estos dos programas desberán implementar los dos algoritmos descritos a coninuación.\n"
   ]
  },
  {
   "cell_type": "markdown",
   "id": "af41f846-cff7-4452-be1d-d198b6435712",
   "metadata": {
    "jp-MarkdownHeadingCollapsed": true,
    "tags": []
   },
   "source": [
    "### 5.C Programa 1: Alineamiento de partidores degenerados\n",
    "\n",
    "Crear un programa invocable desde la línea de comandos que reciba una secuencia de ADN, un partidor degenerado, y retorne todas las posiciones en que éste último se alineará en la secuencia.\n",
    "\n",
    "**¿Qué es un partidor degenerado?** La realización de PCR requiere del diseño y síntesis de secuencias que se alineen en los extremos del amplicón a amplificar, de tal manera de incluir un punto de partida para la polimerización. Usualmente estos partidores se definen como una secuencia de las 4 bases nitrogenadas (A, C, G, T). No obstante, en algunas ocasiones, estos partidores pueden encontrarse en zonas con mutaciones reportadas (por ejemplo, humanos de un grupo étnico que se caracteriza por poseer una variante), o  bien se desea diseñar partidores que difieran levenente unos de otros. Para estos efectos, se diseñan partidores que tengan más de una posibilidad de base en alguna posición. Para especificar estos partidores se utilizan los códigos IUPAC:\n",
    "\n",
    "<img src=\"images/IUPAC-code-is-adapted-from-100.png\" alt=\"IUPAC codes\" style=\"width: 500px;\"/>\n",
    "\n",
    "Por ejemplo, considerando que **S** puede ser G o C, y **K** puede ser G o T el partidor degenerado **GSTAK** codifica los siguientes 4 partidores:\n",
    "- G**G**TA**G**\n",
    "- G**G**TA**T**\n",
    "- G**C**TA**G**\n",
    "- G**C**TA**T**\n",
    "\n",
    "El programa debe devolver una salida con 2 columnas, correspondientes a la posición en donde existe coincidencia, y la secuencia (del ADN) en la cual el primer degenerado se alinea, tal como en el siguiente ejemplo:\n",
    "\n",
    "> **Formato de invocación**<br>\n",
    ">     $ ./degenerate_primer_alignment.py ACATGTATGATCTGGTGATTTGTAAGA TST<br>\n",
    ">     pos seq<br>\n",
    ">     10 TCT<br>\n",
    ">      3 TGT<br>\n",
    ">     20 TGT<br>\n"
   ]
  },
  {
   "cell_type": "markdown",
   "id": "4930bb57-6b83-4d1c-8d95-16a4a1550c05",
   "metadata": {
    "tags": []
   },
   "source": [
    "### 5.D Programa 2: Identificación y transcripción de ORFs\n",
    "\n",
    "Crear un programa invocable desde la línea de comandos que reciba una secuencia, y retorne todos los ORFS posibles tanto en la hebra positiva como negativa, así como los transcriptos proteicos que éstos generan.\n",
    "\n",
    "**¿Qué es un ORF?** Un ORF es el acrónimo de *Open Reading Frame*, el cual es un segmento de secuencia capaz de generar un transcripto proteico. Para efectos de esta traea, considerarmos ORF las secuencias que cumplan con las siguientes características:\n",
    "\n",
    "1. Debe comenzar con un codón de start (AUG)\n",
    "1. Debe terminar con un codón de stop (UAA, UAG, UGA)\n",
    "1. Su longitud debe ser múltiplo de 3\n",
    "1. No debe contener codones de start ni stop (en el mismo marco de lectura) a excepción de los del principio y fin\n",
    "\n",
    "(recuerde que U en RNAm es el equivalente a T en ADN)\n",
    "\n",
    "El mapeo desde bases de RNAm a codones se puede obtener usando el siguiente diagrama:\n",
    "\n",
    "<img src=\"images/Aminoacids_table.svg.png\" alt=\"Aminoacid traduction table\" style=\"width: 500px;\"/>\n",
    "\n",
    "Desarrollaremos un ejemplo para la secuencia **AGATGCCTATGGATGTTAATGATTGAGTGATATAACG**. Si buscamos la coincidencia de los codones de start y stop, identificaremos lo siguiente:\n",
    "\n",
    "<img src=\"images/codones_start_stop.png\" alt=\"codones de start y stop\" style=\"width: 500px;\"/>\n",
    "\n",
    "No obstante, no todas estos codones se encuentran en el mismo marco de lectura. Para identificar los codones, presentaremos los 3 posibles marcos de lectura, partiendo por el primero (0). En este **primer marco de lectura**, el desfase de lectura es cero, lo que significa que le primer codón estará conformado por las tres primeras letras de la secuencia, el segundo por las tres segundas, y así sucesivamente. Los número en gris identifican el número (1-based) del codón en la secuencia.\n",
    "\n",
    "<img src=\"images/marco0.png\" alt=\"Aminoacid traduction table\" style=\"width: 500px;\"/>\n",
    "\n",
    "En este marco de lectura aparecen dos codones de start y uno de stop. Dado que la lectura comienza desde el inicio, el único trascripto comienza en el 5° codón y termina en el 10°. El 7° codón solo agrega una Met a la cadena de aminoácidos de la proteína.\n",
    "\n",
    "Una vez identificado el ORF (**ATGTTAATGATTGAGTGA**), se pueden obtener los aminoácidos que ésta genera, caracterizando la proteína como **MLMIE** (ver letras en diagrama).\n",
    "\n",
    "El **segundo marco de lectura** se obtiene desplazando una letra desde el comienzo de la secuencia, por lo que el primer codón comenzará en la sugnda posición de la secuencia original. Para el sgundo marco de lectura solo encontramos un codon de stop y ninguno de start, por lo que este marco no generará ninguna proteína.\n",
    "\n",
    "<img src=\"images/marco1.png\" alt=\"Aminoacid traduction table\" style=\"width: 500px;\"/>\n",
    "\n",
    "Para el **tercer marco de lectura** se observan dos codones de start y dos de stop. Aplicando el mismo criterio que para el primer marco de lectura, el transcripto comenzará en el primer codón de start y teminará en el primer codón de stop que se encuentre en ese marco. El ORF será **ATGCCTATGGATGTTAATGATTGA**, y su correspondiente proteína **MPMDVND**.\n",
    "\n",
    "<img src=\"images/marco2.png\" alt=\"Aminoacid traduction table\" style=\"width: 500px;\"/>\n",
    "\n",
    "Es posible que exista más de un ORF en el mismo marco de lectura, simpre que su intersección sea nula, es decir, que un ORF termine antes que comienze el siguiente.\n",
    "\n",
    "Hasta ahora se ha aplicado este análisis solo a la hebra positiva. Para verificar si existe algún ORF en la hebra negativa, el análisis debe reralizarse de la misma manera en la hebra complementaria, la que se obtiene calculando el reverso complementario de la cadena original.\n",
    "\n",
    "El programa debe devolver una salida con 5 columnas, correspondientes al ORF, la posición de incio (0-based), el largo del ORF, la hebra (+ o -) y el transcripto a proteína, tal como en el siguiente ejemplo:\n",
    "\n",
    "> **Formato de invocación**<br>\n",
    ">     $ ./ORF_transcript.py GAGCATGCATGCTATTACATGCTA<br>\n",
    ">     ORF                      pos len  strand  transcript<br>\n",
    ">     ATGTTAATGATTGAGTGA        11  18       +  MLMIE<br>\n",
    ">     ATGCCTATGGATGTTAATGATTGA   2  24       +  MPMDVND<br>\n",
    "\n",
    "\n"
   ]
  },
  {
   "cell_type": "code",
   "execution_count": null,
   "id": "4af86146-b014-4c7f-bb6d-c2ea3dcfeb5b",
   "metadata": {},
   "outputs": [],
   "source": []
  }
 ],
 "metadata": {
  "kernelspec": {
   "display_name": "Python 3 (ipykernel)",
   "language": "python",
   "name": "python3"
  },
  "language_info": {
   "codemirror_mode": {
    "name": "ipython",
    "version": 3
   },
   "file_extension": ".py",
   "mimetype": "text/x-python",
   "name": "python",
   "nbconvert_exporter": "python",
   "pygments_lexer": "ipython3",
   "version": "3.10.6"
  },
  "toc-showmarkdowntxt": false
 },
 "nbformat": 4,
 "nbformat_minor": 5
}
