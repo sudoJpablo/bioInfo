{
 "cells": [
  {
   "cell_type": "markdown",
   "id": "66e0132e",
   "metadata": {},
   "source": [
    "# Análisis de variantes desde lecturas de secuenciador masivo (v.2023)\n",
    "\n",
    "> Jorge Maturana, Instituto de Informática UACh, jorge.maturana@uach.cl\n",
    "\n",
    "\n",
    "### Presentación\n",
    "\n",
    "Este tutorial presenta un pipeline de análisis de datos obtenidos desde un secuenciador masivo de datos paired-end, hasta llegar a la identificación de variantes. Para ello se propone un pieline basado en línea de comandos de Linux, con herramientas instaladas en un ambiente de Conda\n",
    "\n",
    "### Presentación\n",
    "\n",
    "Este tutorial se estructura de la siguiente forma:\n",
    "\n",
    "1. Seteo del ambiente\n",
    " - Conda\n",
    " - Jupyter Notebook\n",
    " - Creación de estructura de directorios\n",
    " - Descarga de DNA de referencia\n",
    " - Obtención de archivos desde el secuenciador\n",
    "1. Control de calidad\n",
    "1. Trimming\n",
    "1. Alineamiento de datos podados pareados\n",
    " - Indexación de ADN de referencia\n",
    " - Alineamiento\n",
    "1. Variant calling\n",
    " - Creación de archivo pileup\n",
    " - Llamado de variantes\n",
    "\n",
    "\n",
    "\n",
    "## 1. Seteo del ambiente\n",
    "\n",
    "### Conda\n",
    "\n",
    "**Conda** es un administrador de paquetes multiplataforma que permite generar ambientes destinados a distintas actividades en el mismo computador. Para más información sobre conda visite [este link](https://docs.conda.io/en/latest/).\n",
    "\n",
    "**Miniconda** es una implementación mínima de Conda. Una introducción breve y las instrucciones para la instalación pueden encontrarse en [este video](https://www.youtube.com/watch?v=23aQdrS58e0).\n",
    "\n",
    "En este tutorial se utilizará Conda. Se reecomienda crear un ambiente llamado *bio* con Python 3.9:"
   ]
  },
  {
   "cell_type": "code",
   "execution_count": null,
   "id": "326f2af6",
   "metadata": {},
   "outputs": [],
   "source": [
    "!conda create -n bio python=3.9"
   ]
  },
  {
   "cell_type": "markdown",
   "id": "bb802ee0",
   "metadata": {},
   "source": [
    "Activamos el ambiente bio de conda"
   ]
  },
  {
   "cell_type": "code",
   "execution_count": null,
   "id": "b426f619",
   "metadata": {},
   "outputs": [],
   "source": [
    "!conda init bash"
   ]
  },
  {
   "cell_type": "markdown",
   "id": "b0626346",
   "metadata": {},
   "source": [
    "Agregamos el canal **bioconda**, que contiene varios de los programas que utilizaremos"
   ]
  },
  {
   "cell_type": "code",
   "execution_count": null,
   "id": "eb535834",
   "metadata": {},
   "outputs": [],
   "source": [
    "!conda config --add channels bioconda"
   ]
  },
  {
   "cell_type": "markdown",
   "id": "e05adc15",
   "metadata": {},
   "source": [
    "Instalaremos algunos paquetes que nos serán de utilidad:"
   ]
  },
  {
   "cell_type": "code",
   "execution_count": null,
   "id": "22da7764",
   "metadata": {},
   "outputs": [],
   "source": [
    "!conda install -c bioconda fastqc # para analizar la calidad de los reads\n",
    "!conda install -c bioconda bwa # para alinear los reads contrar un genoma de referencia\n",
    "!conda install -c bioconda samtools # para transformar el archivo de alieamiento en un formato desplegable de manera gráfica\n",
    "!conda install -c bioconda igv # para visualizar gráficamente los aineamientos\n",
    "!conda install -c bioconda bcftools # para identificar las variantes (mutaciones)\n",
    "!conda install -c conda-forge py-bgzip # para comprimir en DNAref previo al pileup del llamado de variantes"
   ]
  },
  {
   "cell_type": "markdown",
   "id": "00992f27",
   "metadata": {},
   "source": [
    "### Jupyter Notebook\n",
    "\n",
    "Jupyter Notebook es un ambiente basado en web para el desarrollo interactivo de codigo y texto. Una introducción rápida y simple se entrega en [este video](https://www.youtube.com/watch?v=6Vr9ZUntCyE)."
   ]
  },
  {
   "cell_type": "markdown",
   "id": "c015a499",
   "metadata": {},
   "source": [
    "### Creación de estructura de directorios\n",
    "\n",
    "Durante el proceso de análisis se generan muchos archivos. Crear una estructura de directorios es conveniente porque:\n",
    "- Permite proteger los datos crudos de eliminaciones o modificaciones accidentales\n",
    "- Permite separar los archivos generados en cada paso del proceso, en caso de rollback\n",
    "\n"
   ]
  },
  {
   "cell_type": "code",
   "execution_count": null,
   "id": "ab02a7b9",
   "metadata": {},
   "outputs": [],
   "source": [
    "!mkdir RawReads # para los reads crudos (que vienen del secuenciador)\n",
    "!mkdir DNAref # para almacenar el DNA de referencia\n",
    "!mkdir FastQC_RawData # para guardar los resultados de calidad de los reads crudos\n",
    "!mkdir TrimReads # para almacenar los reads podados\n",
    "!mkdir FastQC_TrimData # para guardar los resultados de calidad de los reads podados\n",
    "!mkdir Align # para almacenar los resultados del alineamiento\n",
    "!mkdir VarCall # para almacenar las variantes llamadas"
   ]
  },
  {
   "cell_type": "markdown",
   "id": "27bb478b",
   "metadata": {
    "tags": []
   },
   "source": [
    "### Descarga de DNA de referencia\n",
    "\n",
    "Es necesario contar con el ADN de referencia para alinear los reads. Los reads que analizaremos proceden del cromosoma X de la mosca de la fruta (*Drosophila melanogaster*) \n",
    "\n",
    "\n",
    "<img src=\"images_JupNot/Drosophila_melanogaster.jpg\" alt=\"Mosca de la fruta (Drosophila melanogaster)\" style=\"width: 400px;\"/>\n",
    "\n",
    "Este se puede obtener desde una base de datos. En nuestro caso, se cuenta con el link de descarga directo desde NCBI. Descargaremos el archivo mediante la utilidad **wget** y la almacenaremos en el directorio DNAref. "
   ]
  },
  {
   "cell_type": "code",
   "execution_count": null,
   "id": "21b219db",
   "metadata": {},
   "outputs": [],
   "source": [
    "%cd DNAref\n",
    "!wget https://ftp.ncbi.nlm.nih.gov/genomes/all/GCF/000/001/215/GCF_000001215.4_Release_6_plus_ISO1_MT/GCF_000001215.4_Release_6_plus_ISO1_MT_genomic.fna.gz\n",
    "%cd .."
   ]
  },
  {
   "cell_type": "markdown",
   "id": "14a1851d",
   "metadata": {
    "tags": []
   },
   "source": [
    "### Obtención de archivos desde el secuenciador\n",
    "\n",
    "Los archivos desde el secuenciador vienen en formato FASTQ. En este tutorial utilizaremos dos archivos procedentes de una secuenciación Paired-end de Drosophila melanogaster, los cuales fueron utilizados originalmente en el tutorial de Bérénice Batut que se puede encontrar [acá](https://training.galaxyproject.org/archive/2021-08-01/topics/sequence-analysis/tutorials/quality-control/tutorial.html#process-paired-end-data)\n"
   ]
  },
  {
   "cell_type": "code",
   "execution_count": null,
   "id": "f1443cc0",
   "metadata": {},
   "outputs": [],
   "source": [
    "%cd RawReads/\n",
    "# descarga de datos\n",
    "!wget https://zenodo.org/record/61771/files/GSM461178_untreat_paired_subset_1.fastq\n",
    "!wget https://zenodo.org/record/61771/files/GSM461178_untreat_paired_subset_2.fastq\n",
    "%cd .."
   ]
  },
  {
   "cell_type": "markdown",
   "id": "dfda5b84-f6a2-49fc-8abf-e5993b5f08c5",
   "metadata": {},
   "source": [
    "Los nombres de archivos de genoma pueden ser muy largos, lo que podría confundirnos al momento de tipear los comandos. Es posible trabajar localmente con nombres más simples\n",
    "\n",
    "Para no perder el nombre de los archivos y no utilizar más espacio de disco que el necesario, se pueden usar links simbólicos de Linux (similares a los accesos directos en Windows), los cuales crean un puntero a otro archivo"
   ]
  },
  {
   "cell_type": "code",
   "execution_count": null,
   "id": "7154687c-f53c-4c2a-8c19-f76789929161",
   "metadata": {},
   "outputs": [],
   "source": [
    "%cd RawReads/\n",
    "# creación de links simbólicos\n",
    "!ln -s GSM461178_untreat_paired_subset_1.fastq R1.fq\n",
    "!ln -s GSM461178_untreat_paired_subset_2.fastq R2.fq\n",
    "%cd .."
   ]
  },
  {
   "cell_type": "markdown",
   "id": "266dccc7",
   "metadata": {},
   "source": [
    "## 2. Control de calidad\n",
    "\n",
    "### análisis de muestras crudas con FastQC\n",
    "\n",
    "Para observar la calidad de los reads crudos se puede invocar FastQC"
   ]
  },
  {
   "cell_type": "code",
   "execution_count": null,
   "id": "2bf938d6",
   "metadata": {},
   "outputs": [],
   "source": [
    "!fastqc RawReads/R1.fq -o FastQC_RawData/\n",
    "!fastqc RawReads/R2.fq -o FastQC_RawData/"
   ]
  },
  {
   "cell_type": "markdown",
   "id": "e7ad1a60",
   "metadata": {},
   "source": [
    "### Analizar Reportes de FastQC\n",
    "\n",
    "FastQC genera una página web con distintos módulos de análisis en los que se despliegan estadísticas de los datos. Las siguientes gráficas muestran las calidades por base de los reads para [R1](./FastQC_RawData/R1_fastqc.html) y [R2](./FastQC_RawData/R2_fastqc.html):\n",
    "\n",
    "<table><tr>\n",
    "<td> <img src=\"images_JupNot/FastQC_rawR1.png\" alt=\"FastQC raw R1\" style=\"width: 400px;\"/> </td>\n",
    "<td> <img src=\"images_JupNot/FastQC_rawR2.png\" alt=\"FastQC raw R2\" style=\"width: 400px;\"/> </td>\n",
    "</tr></table>\n"
   ]
  },
  {
   "cell_type": "markdown",
   "id": "134c1b13",
   "metadata": {
    "tags": []
   },
   "source": [
    "## 3. Trimming\n",
    "\n",
    "El proceso de **trimming** (o poda) permite eliminar reads de baja calidad y adaptadores sintéticos que pudieran haberse secuenciado por error.\n",
    "\n",
    "Al realizar una poda de dos archivos (FASTQ) con reads paired-end, se generan 4 archivos FASTQ con reads pareados (cuyo par en el sentido contrario de lectura ha sobrevivido), y con reads no-pareados para cada una de las lecturas, R1 y R2.\n",
    "\n",
    "<img src=\"images_JupNot/trimming.png\" alt=\"Trimming\" style=\"width: 700px;\"/>\n",
    "\n",
    "La documetación de trimmomatic puede encontrse [aquí](http://www.usadellab.org/cms/uploads/supplementary/Trimmomatic/TrimmomaticManual_V0.32.pdf).\n",
    "\n",
    "A continuación se ejecutará trimmomatic sobre los datos Paired End que se encuentran en el directorio RawReads. Los resultados se almacenarán en el directorio TrimReads"
   ]
  },
  {
   "cell_type": "code",
   "execution_count": null,
   "id": "f1f7d873",
   "metadata": {
    "scrolled": true
   },
   "outputs": [],
   "source": [
    "!trimmomatic PE RawReads/R1.fq RawReads/R2.fq TrimReads/p_R1.fq TrimReads/u_R1.fq TrimReads/p_R2.fq TrimReads/u_R2.fq LEADING:3 TRAILING:3 SLIDINGWINDOW:4:20 MINLEN:20"
   ]
  },
  {
   "cell_type": "markdown",
   "id": "bc5a2dcb",
   "metadata": {},
   "source": [
    "   ### FastQC sobre datos podados\n",
    "   \n",
    "   Para apreciar el efecto del trimming, se analizan los archivos con los reads podados con FastQC\n",
    "   "
   ]
  },
  {
   "cell_type": "code",
   "execution_count": null,
   "id": "d3791dd4",
   "metadata": {},
   "outputs": [],
   "source": [
    "!for i in `ls TrimReads/*.fq`; do fastqc $i -o FastQC_TrimData/; done"
   ]
  },
  {
   "cell_type": "markdown",
   "id": "b5935076",
   "metadata": {},
   "source": [
    "Las siguientes gráficas muestran las calidades por base de los reads podados en los archivos pareados de [R1](./FastQC_TrimData/p_R1_fastqc.html) y [R2](./FastQC_TrimData/p_R2_fastqc.html), las cuales se pueden comparar con la de los datos crudos, mostrados anteriormente\n",
    "\n",
    "<table><tr>\n",
    "<td> <img src=\"images_JupNot/FastQC_trim_pR1.png\" alt=\"FastQC trimmed paired R1\" style=\"width: 400px;\"/> </td>\n",
    "<td> <img src=\"images_JupNot/FastQC_trim_pR2.png\" alt=\"FastQC trimmed paired R2\" style=\"width: 400px;\"/> </td>\n",
    "</tr></table>\n"
   ]
  },
  {
   "cell_type": "markdown",
   "id": "63004b7e",
   "metadata": {},
   "source": [
    "## 4. alineamiento de datos podados pareados\n",
    "\n",
    "De manera arbitraria, sólo alinearemos los reads de los datos pareados que sobrevivieron a la poda. Este proceso se separa en dos pasos: indexación y alineamiento propiamente tal\n",
    "\n",
    "<img src=\"images_JupNot/alineamiento.png\" alt=\"Alineamiento\" style=\"width: 700px;\"/>\n",
    "\n",
    "\n",
    "### Indexación de ADN de referencia\n",
    "\n",
    "Dado que elproceso de alinear los reads contra el ADN de referencia es trabajoso, es necesaario indexarlo. Este proceso puede tardarse, pero se realiza solamente una vez, dado que es independiente de los reads. Para crear tal ínidce se invoca el método de indexación del alineador bwa (Burrows-Wheeler Aligner)"
   ]
  },
  {
   "cell_type": "code",
   "execution_count": null,
   "id": "7a8c73c9",
   "metadata": {},
   "outputs": [],
   "source": [
    "!bwa index DNAref/GCF_000001215.4_Release_6_plus_ISO1_MT_genomic.fna.gz"
   ]
  },
  {
   "cell_type": "markdown",
   "id": "27f578fa",
   "metadata": {},
   "source": [
    "### Alineamiento\n",
    "\n",
    "Una de las herramientas más utilizadas para realizar el alineamiento es ele Burrows-Wheeler Aligner. Este proceso genera un archivo SAM, que será almacenado en la carpeta Align"
   ]
  },
  {
   "cell_type": "code",
   "execution_count": null,
   "id": "fca46230",
   "metadata": {
    "scrolled": true
   },
   "outputs": [],
   "source": [
    "!bwa mem DNAref/GCF_000001215.4_Release_6_plus_ISO1_MT_genomic.fna.gz TrimReads/p_R1.fq TrimReads/p_R2.fq > Align/trimPaired.sam"
   ]
  },
  {
   "cell_type": "markdown",
   "id": "a74c2575",
   "metadata": {
    "tags": []
   },
   "source": [
    "###  Visualización con IGV\n",
    "\n",
    "Nos interesa visualizar el alineamiento para tener una idea de lo que ha resultado de este proceso. Esto se puede hacer con el programa IGV.\n",
    "\n",
    "Para desplegar los resultados en IGV, se debe transformar el archivo SAM a su equivalente comprimido BAM, y posteriormente indexarlo."
   ]
  },
  {
   "cell_type": "code",
   "execution_count": null,
   "id": "4f438cac",
   "metadata": {
    "scrolled": true
   },
   "outputs": [],
   "source": [
    "%cd Align/\n",
    "!samtools sort trimPaired.sam -o sorted_trimPaired.bam\n",
    "!samtools index sorted_trimPaired.bam\n",
    "%cd .."
   ]
  },
  {
   "cell_type": "code",
   "execution_count": null,
   "id": "4001f6dd",
   "metadata": {
    "tags": []
   },
   "outputs": [],
   "source": [
    "!igv Align/sorted_trimPaired.bam"
   ]
  },
  {
   "cell_type": "markdown",
   "id": "b16ea614",
   "metadata": {},
   "source": [
    "IGV despliega los reads bajo el genoma de referencia. Tanto algunos reads como algunos nucleótidos están marcados en color, para llamar la atención sobre alguna situación especial. El significado de cada color puede ser revisado [acá](https://software.broadinstitute.org/software/igv/AlignmentData).\n",
    "\n",
    "Debe asegurarse que el ADN de referencia contra el cual se están desplegando los reads es el correcto. Een nuestro caso, **D. melanogaster (dm6)**\n",
    "\n",
    "A Modo de ejemplo, en el locus **chr2L:10,201,310-10,202,060** se observa una cantidad significativa de reads. Un **locus** es una ubicación dentro del genoma, en nuestro caso en el **cromosoma 2L** entre las posiciones 10,201,310 y 10,202,060\n",
    "\n",
    "<img src=\"images_JupNot/IGV_profLectura.png\" alt=\"IGV porfundidad de lectura\" style=\"width: 700px;\"/>\n",
    "\n",
    "En el locus **chr2L:9,967,742-9,968,167** aparecen dos SNPs con bastante claridad (barras verticales azul y roja en la misma posición de varios reads diferentes)\n",
    "\n",
    "<img src=\"images_JupNot/IGV_SNPs.png\" alt=\"IGV SNPs\" style=\"width: 700px;\"/>\n"
   ]
  },
  {
   "cell_type": "markdown",
   "id": "79aff014",
   "metadata": {},
   "source": [
    "## 5. Variant calling\n",
    "\n",
    "El llamado de variantes permite distinguir, con una alta probabilidad, las variantes verdaderas de los artefactos producidos durante el proceso de laboratorio (considerando, entre otros, la obtención y preparación de muestras, PCR, preparación de librerías y secuenciación)\n",
    "\n",
    "Este procedimiento se realiza en dos pasos: creación del archivo **pileup**, y llamado de variantes propiamente tal\n",
    "\n",
    "<img src=\"images_JupNot/varCall.png\" alt=\"Llamado de variantes\" style=\"width: 700px;\"/>\n",
    "\n",
    "\n",
    "### Creación de archivo pileup\n",
    "\n",
    "El proceso de pileup genera un archivo que resume la posición de las variantes encontradas para cada posición en distintos reads. Se realiza con la utilidad *samtools mpileup*, la cual requiere un ADN de referencia descomprimido o bien comprimido con una utilidad similar a *gzip*, llamada *bgzip*"
   ]
  },
  {
   "cell_type": "code",
   "execution_count": null,
   "id": "29c82088",
   "metadata": {},
   "outputs": [],
   "source": [
    "!gunzip DNAref/GCF_000001215.4_Release_6_plus_ISO1_MT_genomic.fna.gz #descomprimir .gz\n",
    "!bgzip DNAref/GCF_000001215.4_Release_6_plus_ISO1_MT_genomic.fna # volver a comprimir el FASTA con bgzip"
   ]
  },
  {
   "cell_type": "code",
   "execution_count": null,
   "id": "b115c477",
   "metadata": {
    "scrolled": true
   },
   "outputs": [],
   "source": [
    "!samtools mpileup Align/sorted_trimPaired.bam -g -f DNAref/GCF_000001215.4_Release_6_plus_ISO1_MT_genomic.fna.gz > VarCall/pileup.bcf"
   ]
  },
  {
   "cell_type": "markdown",
   "id": "09ac5abf",
   "metadata": {},
   "source": [
    "### Llamado de variantes\n",
    "\n",
    "El llamado de variantes propiamente tal se realiza con la herramienta bcftools call"
   ]
  },
  {
   "cell_type": "code",
   "execution_count": null,
   "id": "48032262",
   "metadata": {},
   "outputs": [],
   "source": [
    "!bcftools call -O b -vc VarCall/pileup.bcf > VarCall/varCall.bcf\n",
    "#(opción -O b indica que el output es BCF, -O v sacaría un VCF)\n",
    "\n",
    "# transformar BCF a VCF\n",
    "!bcftools view VarCall/varCall.bcf > VarCall/varCall.vcf"
   ]
  },
  {
   "cell_type": "markdown",
   "id": "591fa6f3",
   "metadata": {},
   "source": [
    "### Visualización de llamado de variantes en IGV\n",
    "\n",
    "Las variantes identificadas pueden visualizarse junto a los reads con la ayuda de IGV"
   ]
  },
  {
   "cell_type": "code",
   "execution_count": null,
   "id": "d143fc18",
   "metadata": {},
   "outputs": [],
   "source": [
    "!igv Align/sorted_trimPaired.bam VarCall/varCall.vcf"
   ]
  },
  {
   "cell_type": "markdown",
   "id": "4569f9ed",
   "metadata": {},
   "source": [
    "> **Esta sección contiene un desvío del pipeline**\n",
    "> \n",
    "> Por alguna razón, al intentar visualizar los llamados de variantees con referencia al genoma y anotaciones de D. melanogaster incluidos en IGV, estos no so desplegados.\n",
    "> una hipótesis es que los nombres del FASTA utilizado por IGV y el alineamiento no son los mismos\n",
    "\n",
    "Una forma de verificar lo anterior es explorar los nombres de los encabezados del FASTA del DNA de referencia. Para esto, desplegamos el listado de encabezados, filtrando con el carácter \">\"\n",
    "\n",
    "> **cat** y **grep** son utilidades de la línea de comanndos. cat muestra el contenido de todo el archivo, el resultodo de eso, en vez de ser mostrado por pantalla, es canalizado a través del operador **pipe** (**|**) hacia grep, que filtra las líneas que contienen el carácter \">\", dejando fuera a las secuencas y dejando pasar sólo los encabezados"
   ]
  },
  {
   "cell_type": "code",
   "execution_count": null,
   "id": "08dad26d",
   "metadata": {},
   "outputs": [],
   "source": [
    "!gunzip  DNAref/GCF_000001215.4_Release_6_plus_ISO1_MT_genomic.fna.gz #descomprimir DNAref\n",
    "!cat DNAref/GCF_000001215.4_Release_6_plus_ISO1_MT_genomic.fna | grep \">\""
   ]
  },
  {
   "cell_type": "markdown",
   "id": "0fbf96ca",
   "metadata": {},
   "source": [
    "Una gran cantidad de secuencias corresponden a contigs o scaffolds (marcados con el prefijo *NW_*. Para ignorar estos, volvemos a filtrar para eliminar estos encabezados, esta vez utilizando la opción **-v** de grep, que invierte el filtro"
   ]
  },
  {
   "cell_type": "code",
   "execution_count": null,
   "id": "b05dd931",
   "metadata": {
    "scrolled": true
   },
   "outputs": [],
   "source": [
    "!cat DNAref/GCF_000001215.4_Release_6_plus_ISO1_MT_genomic.fna | grep \">\" | grep -v \"NW_\""
   ]
  },
  {
   "cell_type": "markdown",
   "id": "d5b0a579",
   "metadata": {},
   "source": [
    "Observamos que en este archivo el cromosoma 2L está identificado como\n",
    "\n",
    "> \\> NT_033779.5 Drosophila melanogaster chromosome 2L\n",
    "\n",
    "Por lo que el locus en donde se habían observado los SNPs (**chr2L**:9,967,742-9,968,167) aparecerá ahora bajo el nombre **NT_033779.5**:9,967,742-9,968,167) \n",
    "\n",
    "Para visualizar las variantes llamadas, debemos utilizar archivos que utilicen los mismos términos en la anotación de los genes. Podemeos hacer esto utilizando el DNAref que se utilizó para hacer el alineamiento y el llamado de variantes (almacenado en el directorio DNAref) en vez del que está cargado en IGV. Para hacer esto haremos lo siguiente:\n",
    "\n",
    "1. Iniciar IGV\n",
    "1. En el menú *Genomes -> Load Genomes From File...* cargar el genoma de referencia almacenado en la carpeta DNAref (GCF_000001215.4_Release_6_plus_ISO1_MT_genomic.fna)\n",
    "1. En el menú *File -> Load From File...* cargar VarCall/varCall.vcf\n",
    "1. En el menú *File -> Load From File...* cargar Align/trimPaired.bam\n",
    "1. En la ventana del locus, colocar **NT_033779.5:9,967,742-9,968,167**\n",
    "\n",
    "Con esto, podemos visualizar que las variantes que se habían observado a simple fueron confirmadas en el proceso de llamado de variantes (No así las variantes menos representativaas en **NT_033779.5:10,201,310-10,202,060**)\n",
    "\n",
    "<img src=\"images_JupNot/IGV_varCall.png\" alt=\"IGV llamado de variante\" style=\"width: 700px;\"/>\n",
    "\n",
    "Es posible cargar las anotaciones del genoma de referencia descargando de desde NCBI el archivo GFF (link [acá](https://ftp.ncbi.nlm.nih.gov/genomes/all/GCF/000/001/215/GCF_000001215.4_Release_6_plus_ISO1_MT/GCF_000001215.4_Release_6_plus_ISO1_MT_genomic.gff.gz)). Al cargar en el menú *File -> Load From File...* se podrá observar que esta variante pertenece al gen RpL13, para el cual se podría buscar mayor información en alguna base de datos especializada como [FlyBase](https://flybase.org/).\n",
    "\n",
    "<img src=\"images_JupNot/IGV_varCall_gene_RpL13.png\" alt=\"IGV identificaicón de gen\" style=\"width: 700px;\"/>\n"
   ]
  },
  {
   "cell_type": "code",
   "execution_count": null,
   "id": "8533cc9c-f04a-4b97-b684-18536f31dc65",
   "metadata": {},
   "outputs": [],
   "source": []
  }
 ],
 "metadata": {
  "kernelspec": {
   "display_name": "Python 3 (ipykernel)",
   "language": "python",
   "name": "python3"
  },
  "language_info": {
   "codemirror_mode": {
    "name": "ipython",
    "version": 3
   },
   "file_extension": ".py",
   "mimetype": "text/x-python",
   "name": "python",
   "nbconvert_exporter": "python",
   "pygments_lexer": "ipython3",
   "version": "3.10.6"
  }
 },
 "nbformat": 4,
 "nbformat_minor": 5
}
